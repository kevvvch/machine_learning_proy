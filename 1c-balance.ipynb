{
 "cells": [
  {
   "cell_type": "code",
   "execution_count": 36,
   "metadata": {},
   "outputs": [],
   "source": [
    "# Defines\n",
    "#=================================================#\n",
    "IS_TRAIN_NOT_TEST = True\n",
    "\n",
    "ENV_LOCAL_MACHINE   = 1\n",
    "ENV_GOOGLE_COLLABS  = 2\n",
    "ENV_KAGGLE          = 3\n",
    "ENVIRONMENT = ENV_LOCAL_MACHINE\n",
    "\n",
    "#=================================================#\n",
    "RANDOM_SEED = 214\n",
    "OVERSAMPLING_RATIO = 0.3\n",
    "UNDERSAMPLING_RATIO = 0.8\n",
    "N_JOBS = -1\n",
    "\n",
    "#=================================================#\n",
    "CSV_DATASET_INPUT                   = \"dataset_transformed.csv\"\n",
    "CSV_DATASET_OUTPUT_TEST             = \"dataset_balanced_test.csv\"\n",
    "CSV_DATASET_OUTPUT_TRAIN            = \"dataset_balanced_train.csv\"\n",
    "CSV_DATASET_OUTPUT_RUS_TRAIN        = \"dataset_balanced_train_rus.csv\"\n",
    "CSV_DATASET_OUTPUT_NM_TRAIN         = \"dataset_balanced_train_nm.csv\"\n",
    "CSV_DATASET_OUTPUT_SMOTE_TRAIN      = \"dataset_balanced_train_smote.csv\"\n",
    "CSV_DATASET_OUTPUT_ADASYN_TRAIN     = \"dataset_balanced_train_adasyn.csv\"\n",
    "CSV_DATASET_OUTPUT_TOMEK_TRAIN      = \"dataset_balanced_train_tomek.csv\"\n",
    "CSV_DATASET_OUTPUT_ENN_TRAIN        = \"dataset_balanced_train_enn.csv\"\n",
    "\n",
    "if ENVIRONMENT == ENV_LOCAL_MACHINE:\n",
    "    PATH_DATASET_INPUT  = \"./outputs/\"\n",
    "    PATH_DATASET_OUTPUT = \"./outputs/\"\n",
    "if ENVIRONMENT == ENV_GOOGLE_COLLABS:\n",
    "    PATH_DATASET_INPUT  = \"drive/MyDrive/UTN_Finales/[F] Aprendizaje Automatico/Repositorio/outputs/\"\n",
    "    PATH_DATASET_OUTPUT = \"drive/MyDrive/UTN_Finales/[F] Aprendizaje Automatico/Repositorio/outputs/\"\n",
    "\n",
    "FEATURE_TARGET = \"is_click\""
   ]
  },
  {
   "cell_type": "code",
   "execution_count": 18,
   "metadata": {},
   "outputs": [
    {
     "name": "stdout",
     "output_type": "stream",
     "text": [
      "Requirement already satisfied: imblearn in d:\\program files\\python\\lib\\site-packages (0.0)\n",
      "Requirement already satisfied: imbalanced-learn in d:\\program files\\python\\lib\\site-packages (from imblearn) (0.12.3)\n",
      "Requirement already satisfied: numpy>=1.17.3 in d:\\program files\\python\\lib\\site-packages (from imbalanced-learn->imblearn) (2.0.0)\n",
      "Requirement already satisfied: scipy>=1.5.0 in d:\\program files\\python\\lib\\site-packages (from imbalanced-learn->imblearn) (1.13.1)\n",
      "Requirement already satisfied: scikit-learn>=1.0.2 in d:\\program files\\python\\lib\\site-packages (from imbalanced-learn->imblearn) (1.5.0)\n",
      "Requirement already satisfied: joblib>=1.1.1 in d:\\program files\\python\\lib\\site-packages (from imbalanced-learn->imblearn) (1.4.2)\n",
      "Requirement already satisfied: threadpoolctl>=2.0.0 in d:\\program files\\python\\lib\\site-packages (from imbalanced-learn->imblearn) (3.5.0)\n",
      "Note: you may need to restart the kernel to use updated packages.\n"
     ]
    },
    {
     "name": "stderr",
     "output_type": "stream",
     "text": [
      "\n",
      "[notice] A new release of pip is available: 24.1.1 -> 24.1.2\n",
      "[notice] To update, run: python.exe -m pip install --upgrade pip\n"
     ]
    }
   ],
   "source": [
    "# Import libraries\n",
    "import pandas as pd\n",
    "import numpy as np\n",
    "\n",
    "%pip install imblearn\n",
    "from imblearn.over_sampling import SMOTE, ADASYN\n",
    "from imblearn.combine import SMOTEENN, SMOTETomek\n",
    "from imblearn.under_sampling import RandomUnderSampler, NearMiss\n",
    "\n",
    "from sklearn.model_selection import train_test_split\n",
    "from collections import Counter"
   ]
  },
  {
   "cell_type": "code",
   "execution_count": 19,
   "metadata": {},
   "outputs": [],
   "source": [
    "# Import dataset\n",
    "if ENVIRONMENT == ENV_GOOGLE_COLLABS:\n",
    "    from google.colab import drive\n",
    "    drive.mount('/content/drive')\n",
    "    \n",
    "dataset = pd.read_csv(PATH_DATASET_INPUT+CSV_DATASET_INPUT)\n",
    "dataset_size = dataset.size"
   ]
  },
  {
   "cell_type": "code",
   "execution_count": 20,
   "metadata": {},
   "outputs": [
    {
     "name": "stdout",
     "output_type": "stream",
     "text": [
      "Counter({0: 345567, 1: 25065})\n"
     ]
    }
   ],
   "source": [
    "X = dataset.drop(FEATURE_TARGET, axis=1)\n",
    "y = dataset[FEATURE_TARGET]\n",
    "\n",
    "# Split dataset into train and test\n",
    "X_train, X_test, y_train, y_test = train_test_split(X, y, test_size=0.2, shuffle=True, random_state=RANDOM_SEED, stratify=y)\n",
    "print(Counter(y_train))"
   ]
  },
  {
   "cell_type": "code",
   "execution_count": 37,
   "metadata": {},
   "outputs": [],
   "source": [
    "# Save test dataset apart to another file\n",
    "pd.concat([X_test, y_test], axis=1).to_csv(PATH_DATASET_OUTPUT+CSV_DATASET_OUTPUT_TEST, index=False)\n",
    "\n",
    "# Save imbalanced train dataset apart to another file\n",
    "pd.concat([X_train, y_train], axis=1).to_csv(PATH_DATASET_OUTPUT+CSV_DATASET_OUTPUT_TRAIN, index=False)\n"
   ]
  },
  {
   "cell_type": "markdown",
   "metadata": {},
   "source": [
    "# RANDOM UNDER SAMPLING"
   ]
  },
  {
   "cell_type": "code",
   "execution_count": 22,
   "metadata": {},
   "outputs": [],
   "source": [
    "counter = []\n",
    "for i in Counter(y_train).values():\n",
    "    counter.append(i)\n",
    "counter_0 = counter[0]\n",
    "counter_1 = counter[1]"
   ]
  },
  {
   "cell_type": "code",
   "execution_count": 23,
   "metadata": {},
   "outputs": [
    {
     "name": "stdout",
     "output_type": "stream",
     "text": [
      "Counter({0: 276453, 1: 25065})\n"
     ]
    }
   ],
   "source": [
    "rus = RandomUnderSampler(\n",
    "    sampling_strategy={0: int(counter_0*UNDERSAMPLING_RATIO), 1: counter_1},\n",
    "    random_state=RANDOM_SEED,\n",
    "    replacement=False\n",
    ")\n",
    "X_train_us_rus, y_train_us_rus = rus.fit_resample(X_train, y_train)\n",
    "print(Counter(y_train_us_rus))"
   ]
  },
  {
   "cell_type": "code",
   "execution_count": 24,
   "metadata": {},
   "outputs": [],
   "source": [
    "pd.concat([X_train_us_rus, y_train_us_rus], axis=1).to_csv(PATH_DATASET_OUTPUT+CSV_DATASET_OUTPUT_RUS_TRAIN, index=False)"
   ]
  },
  {
   "cell_type": "markdown",
   "metadata": {},
   "source": [
    "# NEAR MISS"
   ]
  },
  {
   "cell_type": "code",
   "execution_count": 25,
   "metadata": {},
   "outputs": [
    {
     "name": "stdout",
     "output_type": "stream",
     "text": [
      "Counter({0: 276453, 1: 25065})\n"
     ]
    }
   ],
   "source": [
    "nm = NearMiss(\n",
    "    sampling_strategy={0: int(counter_0*UNDERSAMPLING_RATIO), 1: counter_1},\n",
    "    version=1)\n",
    "X_train_us_nm, y_train_us_nm = nm.fit_resample(X_train, y_train)\n",
    "print(Counter(y_train_us_nm))\n"
   ]
  },
  {
   "cell_type": "code",
   "execution_count": 26,
   "metadata": {},
   "outputs": [],
   "source": [
    "pd.concat([X_train_us_rus, y_train_us_rus], axis=1).to_csv(PATH_DATASET_OUTPUT+CSV_DATASET_OUTPUT_NM_TRAIN, index=False)"
   ]
  },
  {
   "cell_type": "markdown",
   "metadata": {},
   "source": [
    "# SMOTE"
   ]
  },
  {
   "cell_type": "code",
   "execution_count": 27,
   "metadata": {},
   "outputs": [
    {
     "name": "stderr",
     "output_type": "stream",
     "text": [
      "d:\\Program Files\\Python\\Lib\\site-packages\\imblearn\\over_sampling\\_smote\\base.py:370: FutureWarning: The parameter `n_jobs` has been deprecated in 0.10 and will be removed in 0.12. You can pass an nearest neighbors estimator where `n_jobs` is already set instead.\n",
      "  warnings.warn(\n"
     ]
    },
    {
     "name": "stdout",
     "output_type": "stream",
     "text": [
      "Counter({0: 345567, 1: 103670})\n"
     ]
    }
   ],
   "source": [
    "smote = SMOTE(\n",
    "    sampling_strategy=OVERSAMPLING_RATIO,\n",
    "    random_state=RANDOM_SEED,\n",
    "    k_neighbors=5,\n",
    "    n_jobs=N_JOBS\n",
    ")\n",
    "X_train_os_smote, y_train_os_smote = smote.fit_resample(X_train, y_train)\n",
    "print(Counter(y_train_os_smote))\n"
   ]
  },
  {
   "cell_type": "code",
   "execution_count": 28,
   "metadata": {},
   "outputs": [],
   "source": [
    "pd.concat([X_train_os_smote, y_train_os_smote], axis=1).to_csv(PATH_DATASET_OUTPUT+CSV_DATASET_OUTPUT_SMOTE_TRAIN, index=False)"
   ]
  },
  {
   "cell_type": "markdown",
   "metadata": {},
   "source": [
    "# ADASYN"
   ]
  },
  {
   "cell_type": "code",
   "execution_count": 29,
   "metadata": {},
   "outputs": [
    {
     "name": "stderr",
     "output_type": "stream",
     "text": [
      "d:\\Program Files\\Python\\Lib\\site-packages\\imblearn\\over_sampling\\_adasyn.py:156: FutureWarning: The parameter `n_jobs` has been deprecated in 0.10 and will be removed in 0.12. You can pass an nearest neighbors estimator where `n_jobs` is already set instead.\n",
      "  warnings.warn(\n"
     ]
    },
    {
     "name": "stdout",
     "output_type": "stream",
     "text": [
      "Counter({0: 345567, 1: 110760})\n"
     ]
    }
   ],
   "source": [
    "adasyn = ADASYN(\n",
    "    sampling_strategy=OVERSAMPLING_RATIO,\n",
    "    random_state=RANDOM_SEED,\n",
    "    n_neighbors=5,\n",
    "    n_jobs=N_JOBS\n",
    ")\n",
    "X_train_os_ada, y_train_os_ada = adasyn.fit_resample(X_train, y_train)\n",
    "print(Counter(y_train_os_ada))"
   ]
  },
  {
   "cell_type": "code",
   "execution_count": 30,
   "metadata": {},
   "outputs": [],
   "source": [
    "pd.concat([X_train_os_ada, y_train_os_ada], axis=1).to_csv(PATH_DATASET_OUTPUT+CSV_DATASET_OUTPUT_ADASYN_TRAIN, index=False)"
   ]
  },
  {
   "cell_type": "markdown",
   "metadata": {},
   "source": [
    "# SMOTE + Tomek Links"
   ]
  },
  {
   "cell_type": "code",
   "execution_count": 31,
   "metadata": {},
   "outputs": [
    {
     "name": "stderr",
     "output_type": "stream",
     "text": [
      "d:\\Program Files\\Python\\Lib\\site-packages\\imblearn\\over_sampling\\_smote\\base.py:370: FutureWarning: The parameter `n_jobs` has been deprecated in 0.10 and will be removed in 0.12. You can pass an nearest neighbors estimator where `n_jobs` is already set instead.\n",
      "  warnings.warn(\n"
     ]
    },
    {
     "name": "stdout",
     "output_type": "stream",
     "text": [
      "Counter({0: 329045, 1: 87148})\n"
     ]
    }
   ],
   "source": [
    "smote_tomek = SMOTETomek(\n",
    "    sampling_strategy=OVERSAMPLING_RATIO,\n",
    "    random_state=RANDOM_SEED,\n",
    "    smote=None,\n",
    "    tomek=None,\n",
    "    n_jobs=N_JOBS\n",
    ")\n",
    "X_train_os_tom, y_train_os_tom = smote_tomek.fit_resample(X_train, y_train)\n",
    "print(Counter(y_train_os_tom))"
   ]
  },
  {
   "cell_type": "code",
   "execution_count": 32,
   "metadata": {},
   "outputs": [],
   "source": [
    "pd.concat([X_train_os_tom, y_train_os_tom], axis=1).to_csv(PATH_DATASET_OUTPUT+CSV_DATASET_OUTPUT_TOMEK_TRAIN, index=False)"
   ]
  },
  {
   "cell_type": "markdown",
   "metadata": {},
   "source": [
    "# SMOTE + ENN"
   ]
  },
  {
   "cell_type": "code",
   "execution_count": 33,
   "metadata": {},
   "outputs": [
    {
     "name": "stderr",
     "output_type": "stream",
     "text": [
      "d:\\Program Files\\Python\\Lib\\site-packages\\imblearn\\over_sampling\\_smote\\base.py:370: FutureWarning: The parameter `n_jobs` has been deprecated in 0.10 and will be removed in 0.12. You can pass an nearest neighbors estimator where `n_jobs` is already set instead.\n",
      "  warnings.warn(\n"
     ]
    },
    {
     "name": "stdout",
     "output_type": "stream",
     "text": [
      "Counter({0: 243721, 1: 17357})\n"
     ]
    }
   ],
   "source": [
    "smote_enn = SMOTEENN(\n",
    "    sampling_strategy=OVERSAMPLING_RATIO,\n",
    "    random_state=RANDOM_SEED,\n",
    "    smote=None,\n",
    "    enn=None,\n",
    "    n_jobs=N_JOBS\n",
    ")\n",
    "X_train_os_enn, y_train_os_enn = smote_enn.fit_resample(X_train, y_train)\n",
    "print(Counter(y_train_os_enn))"
   ]
  },
  {
   "cell_type": "code",
   "execution_count": 34,
   "metadata": {},
   "outputs": [],
   "source": [
    "pd.concat([X_train_os_enn, y_train_os_enn], axis=1).to_csv(PATH_DATASET_OUTPUT+CSV_DATASET_OUTPUT_ENN_TRAIN, index=False)"
   ]
  },
  {
   "cell_type": "markdown",
   "metadata": {},
   "source": [
    "# SMOTE Tomek Links + Near Miss"
   ]
  },
  {
   "cell_type": "code",
   "execution_count": 43,
   "metadata": {},
   "outputs": [],
   "source": [
    "CSV_DATASET_OUTPUT_NM80_TOMEK30_TRAIN      = \"dataset_balanced_train_nm80_tomek30.csv\"\n",
    "CSV_DATASET_OUTPUT_NM65_TOMEK30_TRAIN      = \"dataset_balanced_train_nm65_tomek30.csv\"\n",
    "CSV_DATASET_OUTPUT_NM80_TOMEK50_TRAIN      = \"dataset_balanced_train_nm80_tomek50.csv\"\n",
    "CSV_DATASET_OUTPUT_NM90_TOMEK15_TRAIN      = \"dataset_balanced_train_nm90_tomek15.csv\""
   ]
  },
  {
   "cell_type": "markdown",
   "metadata": {},
   "source": [
    "## 0.80 / 0.30"
   ]
  },
  {
   "cell_type": "code",
   "execution_count": 38,
   "metadata": {},
   "outputs": [
    {
     "name": "stdout",
     "output_type": "stream",
     "text": [
      "Counter({0: 276453, 1: 25065})\n"
     ]
    },
    {
     "name": "stderr",
     "output_type": "stream",
     "text": [
      "d:\\Program Files\\Python\\Lib\\site-packages\\imblearn\\over_sampling\\_smote\\base.py:370: FutureWarning: The parameter `n_jobs` has been deprecated in 0.10 and will be removed in 0.12. You can pass an nearest neighbors estimator where `n_jobs` is already set instead.\n",
      "  warnings.warn(\n"
     ]
    },
    {
     "name": "stdout",
     "output_type": "stream",
     "text": [
      "Counter({0: 262602, 1: 69084})\n"
     ]
    },
    {
     "ename": "NameError",
     "evalue": "name 'CSV_DATASET_OUTPUT_NM80_TOMEK30_TRAIN' is not defined",
     "output_type": "error",
     "traceback": [
      "\u001b[1;31m---------------------------------------------------------------------------\u001b[0m",
      "\u001b[1;31mNameError\u001b[0m                                 Traceback (most recent call last)",
      "Cell \u001b[1;32mIn[38], line 20\u001b[0m\n\u001b[0;32m     17\u001b[0m X_train_us80_os30, y_train_us80_os30 \u001b[38;5;241m=\u001b[39m smote_tomek\u001b[38;5;241m.\u001b[39mfit_resample(X_train_us_nm, y_train_us_nm)\n\u001b[0;32m     18\u001b[0m \u001b[38;5;28mprint\u001b[39m(Counter(y_train_us80_os30))\n\u001b[1;32m---> 20\u001b[0m pd\u001b[38;5;241m.\u001b[39mconcat([X_train_us80_os30, y_train_us80_os30], axis\u001b[38;5;241m=\u001b[39m\u001b[38;5;241m1\u001b[39m)\u001b[38;5;241m.\u001b[39mto_csv(PATH_DATASET_OUTPUT\u001b[38;5;241m+\u001b[39m\u001b[43mCSV_DATASET_OUTPUT_NM80_TOMEK30_TRAIN\u001b[49m, index\u001b[38;5;241m=\u001b[39m\u001b[38;5;28;01mFalse\u001b[39;00m)\n",
      "\u001b[1;31mNameError\u001b[0m: name 'CSV_DATASET_OUTPUT_NM80_TOMEK30_TRAIN' is not defined"
     ]
    }
   ],
   "source": [
    "UNDERSAMPLING_RATIO_T = 0.8\n",
    "OVERSAMPLING_RATIO_T = 0.3\n",
    "\n",
    "nm = NearMiss(\n",
    "    sampling_strategy={0: int(counter_0*UNDERSAMPLING_RATIO_T), 1: counter_1},\n",
    "    version=1)\n",
    "X_train_us_nm, y_train_us_nm = nm.fit_resample(X_train, y_train)\n",
    "print(Counter(y_train_us_nm))\n",
    "\n",
    "smote_tomek = SMOTETomek(\n",
    "    sampling_strategy=OVERSAMPLING_RATIO,\n",
    "    random_state=RANDOM_SEED,\n",
    "    smote=None,\n",
    "    tomek=None,\n",
    "    n_jobs=N_JOBS\n",
    ")\n",
    "X_train_us80_os30, y_train_us80_os30 = smote_tomek.fit_resample(X_train_us_nm, y_train_us_nm)\n",
    "print(Counter(y_train_us80_os30))\n",
    "\n",
    "pd.concat([X_train_us80_os30, y_train_us80_os30], axis=1).to_csv(PATH_DATASET_OUTPUT+CSV_DATASET_OUTPUT_NM80_TOMEK30_TRAIN, index=False)\n"
   ]
  },
  {
   "cell_type": "markdown",
   "metadata": {},
   "source": [
    "## 0.65 / 0.30"
   ]
  },
  {
   "cell_type": "code",
   "execution_count": 41,
   "metadata": {},
   "outputs": [
    {
     "name": "stdout",
     "output_type": "stream",
     "text": [
      "Counter({0: 224618, 1: 25065})\n"
     ]
    },
    {
     "name": "stderr",
     "output_type": "stream",
     "text": [
      "d:\\Program Files\\Python\\Lib\\site-packages\\imblearn\\over_sampling\\_smote\\base.py:370: FutureWarning: The parameter `n_jobs` has been deprecated in 0.10 and will be removed in 0.12. You can pass an nearest neighbors estimator where `n_jobs` is already set instead.\n",
      "  warnings.warn(\n"
     ]
    },
    {
     "name": "stdout",
     "output_type": "stream",
     "text": [
      "Counter({0: 213883, 1: 56650})\n"
     ]
    }
   ],
   "source": [
    "UNDERSAMPLING_RATIO_T = 0.65\n",
    "OVERSAMPLING_RATIO_T = 0.30\n",
    "\n",
    "nm = NearMiss(\n",
    "    sampling_strategy={0: int(counter_0*UNDERSAMPLING_RATIO_T), 1: counter_1},\n",
    "    version=1)\n",
    "X_train_us_nm, y_train_us_nm = nm.fit_resample(X_train, y_train)\n",
    "print(Counter(y_train_us_nm))\n",
    "\n",
    "smote_tomek = SMOTETomek(\n",
    "    sampling_strategy=OVERSAMPLING_RATIO,\n",
    "    random_state=RANDOM_SEED,\n",
    "    smote=None,\n",
    "    tomek=None,\n",
    "    n_jobs=N_JOBS\n",
    ")\n",
    "X_train_us65_os30, y_train_us65_os30 = smote_tomek.fit_resample(X_train_us_nm, y_train_us_nm)\n",
    "print(Counter(y_train_us65_os30))\n",
    "\n",
    "pd.concat([X_train_us65_os30, y_train_us65_os30], axis=1).to_csv(PATH_DATASET_OUTPUT+CSV_DATASET_OUTPUT_NM65_TOMEK30_TRAIN, index=False)"
   ]
  },
  {
   "cell_type": "markdown",
   "metadata": {},
   "source": [
    "## 0.80 / 0.50"
   ]
  },
  {
   "cell_type": "code",
   "execution_count": 42,
   "metadata": {},
   "outputs": [
    {
     "name": "stdout",
     "output_type": "stream",
     "text": [
      "Counter({0: 276453, 1: 25065})\n"
     ]
    },
    {
     "name": "stderr",
     "output_type": "stream",
     "text": [
      "d:\\Program Files\\Python\\Lib\\site-packages\\imblearn\\over_sampling\\_smote\\base.py:370: FutureWarning: The parameter `n_jobs` has been deprecated in 0.10 and will be removed in 0.12. You can pass an nearest neighbors estimator where `n_jobs` is already set instead.\n",
      "  warnings.warn(\n"
     ]
    },
    {
     "name": "stdout",
     "output_type": "stream",
     "text": [
      "Counter({0: 262602, 1: 69084})\n"
     ]
    }
   ],
   "source": [
    "UNDERSAMPLING_RATIO_T = 0.8\n",
    "OVERSAMPLING_RATIO_T = 0.5\n",
    "\n",
    "nm = NearMiss(\n",
    "    sampling_strategy={0: int(counter_0*UNDERSAMPLING_RATIO_T), 1: counter_1},\n",
    "    version=1)\n",
    "X_train_us_nm, y_train_us_nm = nm.fit_resample(X_train, y_train)\n",
    "print(Counter(y_train_us_nm))\n",
    "\n",
    "smote_tomek = SMOTETomek(\n",
    "    sampling_strategy=OVERSAMPLING_RATIO,\n",
    "    random_state=RANDOM_SEED,\n",
    "    smote=None,\n",
    "    tomek=None,\n",
    "    n_jobs=N_JOBS\n",
    ")\n",
    "X_train_us80_os50, y_train_us80_os50 = smote_tomek.fit_resample(X_train_us_nm, y_train_us_nm)\n",
    "print(Counter(y_train_us80_os50))\n",
    "\n",
    "pd.concat([X_train_us80_os50, y_train_us80_os50], axis=1).to_csv(PATH_DATASET_OUTPUT+CSV_DATASET_OUTPUT_NM80_TOMEK50_TRAIN, index=False)"
   ]
  },
  {
   "cell_type": "markdown",
   "metadata": {},
   "source": [
    "## 0.90 / 0.15"
   ]
  },
  {
   "cell_type": "code",
   "execution_count": 44,
   "metadata": {},
   "outputs": [
    {
     "name": "stdout",
     "output_type": "stream",
     "text": [
      "Counter({0: 311010, 1: 25065})\n"
     ]
    },
    {
     "name": "stderr",
     "output_type": "stream",
     "text": [
      "d:\\Program Files\\Python\\Lib\\site-packages\\imblearn\\over_sampling\\_smote\\base.py:370: FutureWarning: The parameter `n_jobs` has been deprecated in 0.10 and will be removed in 0.12. You can pass an nearest neighbors estimator where `n_jobs` is already set instead.\n",
      "  warnings.warn(\n"
     ]
    },
    {
     "name": "stdout",
     "output_type": "stream",
     "text": [
      "Counter({0: 295558, 1: 77851})\n"
     ]
    }
   ],
   "source": [
    "UNDERSAMPLING_RATIO_T = 0.9\n",
    "OVERSAMPLING_RATIO_T = 0.15\n",
    "\n",
    "nm = NearMiss(\n",
    "    sampling_strategy={0: int(counter_0*UNDERSAMPLING_RATIO_T), 1: counter_1},\n",
    "    version=1)\n",
    "X_train_us_nm, y_train_us_nm = nm.fit_resample(X_train, y_train)\n",
    "print(Counter(y_train_us_nm))\n",
    "\n",
    "smote_tomek = SMOTETomek(\n",
    "    sampling_strategy=OVERSAMPLING_RATIO,\n",
    "    random_state=RANDOM_SEED,\n",
    "    smote=None,\n",
    "    tomek=None,\n",
    "    n_jobs=N_JOBS\n",
    ")\n",
    "X_train_us90_os15, y_train_us90_os15 = smote_tomek.fit_resample(X_train_us_nm, y_train_us_nm)\n",
    "print(Counter(y_train_us90_os15))\n",
    "\n",
    "pd.concat([X_train_us90_os15, y_train_us90_os15], axis=1).to_csv(PATH_DATASET_OUTPUT+CSV_DATASET_OUTPUT_NM90_TOMEK15_TRAIN, index=False)"
   ]
  },
  {
   "cell_type": "markdown",
   "metadata": {},
   "source": [
    "# SMOTE ENN + Near Miss"
   ]
  },
  {
   "cell_type": "code",
   "execution_count": 48,
   "metadata": {},
   "outputs": [],
   "source": [
    "CSV_DATASET_OUTPUT_NM90_ENN15_TRAIN = \"dataset_balanced_train_nm90_enn15.csv\"\n",
    "CSV_DATASET_OUTPUT_NM90_ENN30_TRAIN = \"dataset_balanced_train_nm90_enn30.csv\""
   ]
  },
  {
   "cell_type": "markdown",
   "metadata": {},
   "source": [
    "## 0.90 / 0.15"
   ]
  },
  {
   "cell_type": "code",
   "execution_count": 47,
   "metadata": {},
   "outputs": [
    {
     "name": "stdout",
     "output_type": "stream",
     "text": [
      "Counter({0: 311010, 1: 25065})\n"
     ]
    },
    {
     "name": "stderr",
     "output_type": "stream",
     "text": [
      "d:\\Program Files\\Python\\Lib\\site-packages\\imblearn\\over_sampling\\_smote\\base.py:370: FutureWarning: The parameter `n_jobs` has been deprecated in 0.10 and will be removed in 0.12. You can pass an nearest neighbors estimator where `n_jobs` is already set instead.\n",
      "  warnings.warn(\n"
     ]
    },
    {
     "name": "stdout",
     "output_type": "stream",
     "text": [
      "Counter({0: 295558, 1: 77851})\n"
     ]
    }
   ],
   "source": [
    "UNDERSAMPLING_RATIO_T = 0.9\n",
    "OVERSAMPLING_RATIO_T = 0.15\n",
    "\n",
    "nm = NearMiss(\n",
    "    sampling_strategy={0: int(counter_0*UNDERSAMPLING_RATIO_T), 1: counter_1},\n",
    "    version=1)\n",
    "X_train_us_nm, y_train_us_nm = nm.fit_resample(X_train, y_train)\n",
    "print(Counter(y_train_us_nm))\n",
    "\n",
    "smote_enn = SMOTEENN(\n",
    "    sampling_strategy=OVERSAMPLING_RATIO,\n",
    "    random_state=RANDOM_SEED,\n",
    "    smote=None,\n",
    "    enn=None,\n",
    "    n_jobs=N_JOBS\n",
    ")\n",
    "X_train_us90_os15_enn, y_train_us90_os15_enn = smote_tomek.fit_resample(X_train_us_nm, y_train_us_nm)\n",
    "print(Counter(y_train_us90_os15_enn))\n",
    "\n",
    "pd.concat([X_train_us90_os15_enn, y_train_us90_os15_enn], axis=1).to_csv(PATH_DATASET_OUTPUT+CSV_DATASET_OUTPUT_NM90_ENN15_TRAIN, index=False)"
   ]
  },
  {
   "cell_type": "markdown",
   "metadata": {},
   "source": [
    "## 0.90 / 0.30"
   ]
  },
  {
   "cell_type": "code",
   "execution_count": 49,
   "metadata": {},
   "outputs": [
    {
     "name": "stdout",
     "output_type": "stream",
     "text": [
      "Counter({0: 311010, 1: 25065})\n"
     ]
    },
    {
     "name": "stderr",
     "output_type": "stream",
     "text": [
      "d:\\Program Files\\Python\\Lib\\site-packages\\imblearn\\over_sampling\\_smote\\base.py:370: FutureWarning: The parameter `n_jobs` has been deprecated in 0.10 and will be removed in 0.12. You can pass an nearest neighbors estimator where `n_jobs` is already set instead.\n",
      "  warnings.warn(\n"
     ]
    },
    {
     "name": "stdout",
     "output_type": "stream",
     "text": [
      "Counter({0: 295558, 1: 77851})\n"
     ]
    }
   ],
   "source": [
    "UNDERSAMPLING_RATIO_T = 0.9\n",
    "OVERSAMPLING_RATIO_T = 0.30\n",
    "\n",
    "nm = NearMiss(\n",
    "    sampling_strategy={0: int(counter_0*UNDERSAMPLING_RATIO_T), 1: counter_1},\n",
    "    version=1)\n",
    "X_train_us_nm, y_train_us_nm = nm.fit_resample(X_train, y_train)\n",
    "print(Counter(y_train_us_nm))\n",
    "\n",
    "smote_enn = SMOTEENN(\n",
    "    sampling_strategy=OVERSAMPLING_RATIO,\n",
    "    random_state=RANDOM_SEED,\n",
    "    smote=None,\n",
    "    enn=None,\n",
    "    n_jobs=N_JOBS\n",
    ")\n",
    "X_train_us90_os30_enn, y_train_us90_os30_enn = smote_tomek.fit_resample(X_train_us_nm, y_train_us_nm)\n",
    "print(Counter(y_train_us90_os30_enn))\n",
    "\n",
    "pd.concat([X_train_us90_os30_enn, y_train_us90_os30_enn], axis=1).to_csv(PATH_DATASET_OUTPUT+CSV_DATASET_OUTPUT_NM90_ENN30_TRAIN, index=False)"
   ]
  }
 ],
 "metadata": {
  "kernelspec": {
   "display_name": "Python 3",
   "language": "python",
   "name": "python3"
  },
  "language_info": {
   "codemirror_mode": {
    "name": "ipython",
    "version": 3
   },
   "file_extension": ".py",
   "mimetype": "text/x-python",
   "name": "python",
   "nbconvert_exporter": "python",
   "pygments_lexer": "ipython3",
   "version": "3.12.3"
  }
 },
 "nbformat": 4,
 "nbformat_minor": 2
}
