{
 "cells": [
  {
   "cell_type": "code",
   "execution_count": 72,
   "metadata": {},
   "outputs": [],
   "source": [
    "# Defines\n",
    "#=================================================#\n",
    "IS_TRAIN_NOT_TEST = True\n",
    "\n",
    "ENV_LOCAL_MACHINE   = 1\n",
    "ENV_GOOGLE_COLLABS  = 2\n",
    "ENV_KAGGLE          = 3\n",
    "ENVIRONMENT = ENV_LOCAL_MACHINE\n",
    "\n",
    "#=================================================#\n",
    "CSV_DATASET_INPUT           = \"dataset_t.csv\"\n",
    "CSV_DATASET_OUTPUT_TEST     = \"dataset_balanced_test.csv\"\n",
    "CSV_DATASET_OUTPUT_SMOTE_TRAIN      = \"dataset_balanced_smote_train.csv\"\n",
    "CSV_DATASET_OUTPUT_ADASYN_TRAIN     = \"dataset_balanced_adasyn_train.csv\"\n",
    "CSV_DATASET_OUTPUT_TOMEK_TRAIN      = \"dataset_balanced_tomek_train.csv\"\n",
    "CSV_DATASET_OUTPUT_ENN_TRAIN        = \"dataset_balanced_enn_train.csv\"\n",
    "\n",
    "\n",
    "if ENVIRONMENT == ENV_LOCAL_MACHINE:\n",
    "    PATH_DATASET_INPUT  = \"./dataset_t/\"\n",
    "    PATH_DATASET_OUTPUT = \"./dataset_t/\"\n",
    "if ENVIRONMENT == ENV_GOOGLE_COLLABS:\n",
    "    PATH_DATASET_INPUT  = \"drive/MyDrive/UTN_Finales/[F] Aprendizaje Automatico/Repositorio/dataset_t/\"\n",
    "    PATH_DATASET_OUTPUT = \"drive/MyDrive/UTN_Finales/[F] Aprendizaje Automatico/Repositorio/dataset_t/\"\n",
    "\n",
    "FEATURE_TARGET = \"is_click\"\n",
    "\n",
    "RANDOM_STATE = 214\n",
    "OVERSAMPLING_RATIO = 0.3\n",
    "UNDERSAMPLING_RATIO = 0.8\n",
    "N_JOBS = -1"
   ]
  },
  {
   "cell_type": "code",
   "execution_count": 73,
   "metadata": {},
   "outputs": [
    {
     "name": "stdout",
     "output_type": "stream",
     "text": [
      "Requirement already satisfied: imblearn in d:\\program files\\python\\lib\\site-packages (0.0)\n",
      "Requirement already satisfied: imbalanced-learn in d:\\program files\\python\\lib\\site-packages (from imblearn) (0.12.3)\n",
      "Requirement already satisfied: numpy>=1.17.3 in d:\\program files\\python\\lib\\site-packages (from imbalanced-learn->imblearn) (2.0.0)\n",
      "Requirement already satisfied: scipy>=1.5.0 in d:\\program files\\python\\lib\\site-packages (from imbalanced-learn->imblearn) (1.13.1)\n",
      "Requirement already satisfied: scikit-learn>=1.0.2 in d:\\program files\\python\\lib\\site-packages (from imbalanced-learn->imblearn) (1.5.0)\n",
      "Requirement already satisfied: joblib>=1.1.1 in d:\\program files\\python\\lib\\site-packages (from imbalanced-learn->imblearn) (1.4.2)\n",
      "Requirement already satisfied: threadpoolctl>=2.0.0 in d:\\program files\\python\\lib\\site-packages (from imbalanced-learn->imblearn) (3.5.0)\n",
      "Note: you may need to restart the kernel to use updated packages.\n"
     ]
    }
   ],
   "source": [
    "# Import libraries\n",
    "import pandas as pd\n",
    "import numpy as np\n",
    "\n",
    "if ENVIRONMENT == ENV_LOCAL_MACHINE:\n",
    "    %pip install imblearn\n",
    "else:\n",
    "    !pip install imblearn\n",
    "from imblearn.over_sampling import SMOTE, ADASYN\n",
    "from imblearn.combine import SMOTEENN, SMOTETomek\n",
    "from imblearn.under_sampling import RandomUnderSampler\n",
    "\n",
    "from sklearn.model_selection import train_test_split\n",
    "from collections import Counter"
   ]
  },
  {
   "cell_type": "code",
   "execution_count": 74,
   "metadata": {},
   "outputs": [],
   "source": [
    "# Import dataset\n",
    "dataset = pd.read_csv(PATH_DATASET_INPUT+CSV_DATASET_INPUT)\n",
    "dataset_size = dataset.size"
   ]
  },
  {
   "cell_type": "code",
   "execution_count": 75,
   "metadata": {},
   "outputs": [
    {
     "name": "stdout",
     "output_type": "stream",
     "text": [
      "Counter({0: 345567, 1: 25065})\n"
     ]
    }
   ],
   "source": [
    "X = dataset.drop(FEATURE_TARGET, axis=1)\n",
    "y = dataset[FEATURE_TARGET]\n",
    "\n",
    "# Split dataset into train and test\n",
    "X_train, X_test, y_train, y_test = train_test_split(X, y, test_size=0.2, shuffle=True, random_state=RANDOM_STATE, stratify=y)\n",
    "print(Counter(y_train))"
   ]
  },
  {
   "cell_type": "code",
   "execution_count": 76,
   "metadata": {},
   "outputs": [],
   "source": [
    "# Save test dataset apart to another file\n",
    "pd.concat([X_test, y_test], axis=1).to_csv(PATH_DATASET_OUTPUT+CSV_DATASET_OUTPUT_TEST, index=False)\n"
   ]
  },
  {
   "cell_type": "markdown",
   "metadata": {},
   "source": [
    "# RANDOM UNDER SAMPLING"
   ]
  },
  {
   "cell_type": "code",
   "execution_count": 77,
   "metadata": {},
   "outputs": [],
   "source": [
    "counter = []\n",
    "for i in Counter(y_train).values():\n",
    "    counter.append(i)\n",
    "counter_0 = counter[0]\n",
    "counter_1 = counter[1]"
   ]
  },
  {
   "cell_type": "code",
   "execution_count": 78,
   "metadata": {},
   "outputs": [
    {
     "name": "stdout",
     "output_type": "stream",
     "text": [
      "Counter({0: 276453, 1: 25065})\n"
     ]
    }
   ],
   "source": [
    "rus = RandomUnderSampler(\n",
    "    sampling_strategy={0: int(counter_0*UNDERSAMPLING_RATIO), 1: counter_1},\n",
    "    random_state=RANDOM_STATE,\n",
    "    replacement=False\n",
    ")\n",
    "X_train_rus, y_train_rus = rus.fit_resample(X_train, y_train)\n",
    "print(Counter(y_train_rus))"
   ]
  },
  {
   "cell_type": "markdown",
   "metadata": {},
   "source": [
    "# SMOTE"
   ]
  },
  {
   "cell_type": "code",
   "execution_count": 79,
   "metadata": {},
   "outputs": [
    {
     "name": "stderr",
     "output_type": "stream",
     "text": [
      "d:\\Program Files\\Python\\Lib\\site-packages\\imblearn\\over_sampling\\_smote\\base.py:370: FutureWarning: The parameter `n_jobs` has been deprecated in 0.10 and will be removed in 0.12. You can pass an nearest neighbors estimator where `n_jobs` is already set instead.\n",
      "  warnings.warn(\n"
     ]
    },
    {
     "name": "stdout",
     "output_type": "stream",
     "text": [
      "Counter({0: 345567, 1: 103670})\n"
     ]
    }
   ],
   "source": [
    "smote = SMOTE(\n",
    "    sampling_strategy=OVERSAMPLING_RATIO,\n",
    "    random_state=RANDOM_STATE,\n",
    "    k_neighbors=5,\n",
    "    n_jobs=N_JOBS\n",
    ")\n",
    "X_train_res, y_train_res = smote.fit_resample(X_train, y_train)\n",
    "print(Counter(y_train_res))\n"
   ]
  },
  {
   "cell_type": "code",
   "execution_count": 80,
   "metadata": {},
   "outputs": [],
   "source": [
    "pd.concat([X_train_res, y_train_res], axis=1).to_csv(PATH_DATASET_OUTPUT+CSV_DATASET_OUTPUT_SMOTE_TRAIN, index=False)"
   ]
  },
  {
   "cell_type": "markdown",
   "metadata": {},
   "source": [
    "# ADASYN"
   ]
  },
  {
   "cell_type": "code",
   "execution_count": 81,
   "metadata": {},
   "outputs": [
    {
     "name": "stderr",
     "output_type": "stream",
     "text": [
      "d:\\Program Files\\Python\\Lib\\site-packages\\imblearn\\over_sampling\\_adasyn.py:156: FutureWarning: The parameter `n_jobs` has been deprecated in 0.10 and will be removed in 0.12. You can pass an nearest neighbors estimator where `n_jobs` is already set instead.\n",
      "  warnings.warn(\n"
     ]
    },
    {
     "name": "stdout",
     "output_type": "stream",
     "text": [
      "Counter({0: 345567, 1: 110760})\n"
     ]
    }
   ],
   "source": [
    "adasyn = ADASYN(\n",
    "    sampling_strategy=OVERSAMPLING_RATIO,\n",
    "    random_state=RANDOM_STATE,\n",
    "    n_neighbors=5,\n",
    "    n_jobs=N_JOBS\n",
    ")\n",
    "X_train_res, y_train_res = adasyn.fit_resample(X_train, y_train)\n",
    "print(Counter(y_train_res))"
   ]
  },
  {
   "cell_type": "code",
   "execution_count": 82,
   "metadata": {},
   "outputs": [],
   "source": [
    "pd.concat([X_train_res, y_train_res], axis=1).to_csv(PATH_DATASET_OUTPUT+CSV_DATASET_OUTPUT_ADASYN_TRAIN, index=False)"
   ]
  },
  {
   "cell_type": "markdown",
   "metadata": {},
   "source": [
    "# SMOTE + Tomek Links"
   ]
  },
  {
   "cell_type": "code",
   "execution_count": 83,
   "metadata": {},
   "outputs": [
    {
     "name": "stderr",
     "output_type": "stream",
     "text": [
      "d:\\Program Files\\Python\\Lib\\site-packages\\imblearn\\over_sampling\\_smote\\base.py:370: FutureWarning: The parameter `n_jobs` has been deprecated in 0.10 and will be removed in 0.12. You can pass an nearest neighbors estimator where `n_jobs` is already set instead.\n",
      "  warnings.warn(\n"
     ]
    },
    {
     "name": "stdout",
     "output_type": "stream",
     "text": [
      "Counter({0: 329045, 1: 87148})\n"
     ]
    }
   ],
   "source": [
    "smote_tomek = SMOTETomek(\n",
    "    sampling_strategy=OVERSAMPLING_RATIO,\n",
    "    random_state=RANDOM_STATE,\n",
    "    smote=None,\n",
    "    tomek=None,\n",
    "    n_jobs=N_JOBS\n",
    ")\n",
    "X_train_res, y_train_res = smote_tomek.fit_resample(X_train, y_train)\n",
    "print(Counter(y_train_res))"
   ]
  },
  {
   "cell_type": "code",
   "execution_count": 84,
   "metadata": {},
   "outputs": [],
   "source": [
    "pd.concat([X_train_res, y_train_res], axis=1).to_csv(PATH_DATASET_OUTPUT+CSV_DATASET_OUTPUT_TOMEK_TRAIN, index=False)"
   ]
  },
  {
   "cell_type": "markdown",
   "metadata": {},
   "source": [
    "# SMOTE + ENN"
   ]
  },
  {
   "cell_type": "code",
   "execution_count": 85,
   "metadata": {},
   "outputs": [
    {
     "name": "stderr",
     "output_type": "stream",
     "text": [
      "d:\\Program Files\\Python\\Lib\\site-packages\\imblearn\\over_sampling\\_smote\\base.py:370: FutureWarning: The parameter `n_jobs` has been deprecated in 0.10 and will be removed in 0.12. You can pass an nearest neighbors estimator where `n_jobs` is already set instead.\n",
      "  warnings.warn(\n"
     ]
    },
    {
     "name": "stdout",
     "output_type": "stream",
     "text": [
      "Counter({0: 243721, 1: 17357})\n"
     ]
    }
   ],
   "source": [
    "smote_enn = SMOTEENN(\n",
    "    sampling_strategy=OVERSAMPLING_RATIO,\n",
    "    random_state=RANDOM_STATE,\n",
    "    smote=None,\n",
    "    enn=None,\n",
    "    n_jobs=N_JOBS\n",
    ")\n",
    "X_train_res, y_train_res = smote_enn.fit_resample(X_train, y_train)\n",
    "print(Counter(y_train_res))"
   ]
  },
  {
   "cell_type": "code",
   "execution_count": 86,
   "metadata": {},
   "outputs": [],
   "source": [
    "pd.concat([X_train_res, y_train_res], axis=1).to_csv(PATH_DATASET_OUTPUT+CSV_DATASET_OUTPUT_ENN_TRAIN, index=False)"
   ]
  }
 ],
 "metadata": {
  "kernelspec": {
   "display_name": "Python 3",
   "language": "python",
   "name": "python3"
  },
  "language_info": {
   "codemirror_mode": {
    "name": "ipython",
    "version": 3
   },
   "file_extension": ".py",
   "mimetype": "text/x-python",
   "name": "python",
   "nbconvert_exporter": "python",
   "pygments_lexer": "ipython3",
   "version": "3.12.3"
  }
 },
 "nbformat": 4,
 "nbformat_minor": 2
}
