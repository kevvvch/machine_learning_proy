{
 "cells": [
  {
   "cell_type": "code",
   "execution_count": 8,
   "metadata": {},
   "outputs": [],
   "source": [
    "# Defines\n",
    "#=================================================#\n",
    "IS_TRAIN_NOT_TEST = True\n",
    "\n",
    "ENV_LOCAL_MACHINE   = 1\n",
    "ENV_GOOGLE_COLLABS  = 2\n",
    "ENV_KAGGLE          = 3\n",
    "ENVIRONMENT = ENV_LOCAL_MACHINE\n",
    "\n",
    "#=================================================#\n",
    "RANDOM_SEED = 214\n",
    "OVERSAMPLING_RATIO = 0.3\n",
    "UNDERSAMPLING_RATIO = 0.8\n",
    "N_JOBS = -1\n",
    "\n",
    "#=================================================#\n",
    "PATH_INPUT              = \"dataset/creditcard/\"\n",
    "PATH_OUTPUT             = \"outputs/creditcard/\"\n",
    "\n",
    "CSV_DATASET_RAW         = \"creditcard.csv\"\n",
    "CSV_DATASET_TRAIN       = \"dataset_train.csv\"\n",
    "CSV_DATASET_TEST        = \"dataset_test.csv\"\n",
    "\n",
    "\n",
    "if ENVIRONMENT == ENV_LOCAL_MACHINE:\n",
    "    PATH_DATASET_BASE  = \"../\"\n",
    "if ENVIRONMENT == ENV_GOOGLE_COLLABS:\n",
    "    PATH_DATASET_BASE  = \"drive/MyDrive/UTN_Finales/[F] Aprendizaje Automatico/Repositorio/\"\n",
    "\n",
    "FEATURE_TARGET = \"Class\""
   ]
  },
  {
   "cell_type": "code",
   "execution_count": 1,
   "metadata": {},
   "outputs": [],
   "source": [
    "# Import libraries\n",
    "import pandas as pd\n",
    "import numpy as np\n",
    "\n",
    "from sklearn.model_selection import train_test_split"
   ]
  },
  {
   "cell_type": "code",
   "execution_count": 4,
   "metadata": {},
   "outputs": [],
   "source": [
    "dataset = pd.read_csv(PATH_DATASET_BASE+PATH_INPUT+CSV_DATASET_RAW)"
   ]
  },
  {
   "cell_type": "code",
   "execution_count": 5,
   "metadata": {},
   "outputs": [],
   "source": [
    "X_train, X_test, y_train, y_test = train_test_split(dataset.drop(columns=FEATURE_TARGET), dataset[FEATURE_TARGET], test_size=0.3, random_state=RANDOM_SEED, stratify=dataset[FEATURE_TARGET])"
   ]
  },
  {
   "cell_type": "code",
   "execution_count": 9,
   "metadata": {},
   "outputs": [],
   "source": [
    "# Save test dataset apart to another file\n",
    "pd.concat([X_test, y_test], axis=1).to_csv(PATH_DATASET_BASE+PATH_OUTPUT+CSV_DATASET_TEST, index=False)\n",
    "\n",
    "# Save train dataset apart to another file\n",
    "pd.concat([X_train, y_train], axis=1).to_csv(PATH_DATASET_BASE+PATH_OUTPUT+CSV_DATASET_TRAIN, index=False)\n"
   ]
  }
 ],
 "metadata": {
  "kernelspec": {
   "display_name": "Python 3",
   "language": "python",
   "name": "python3"
  },
  "language_info": {
   "codemirror_mode": {
    "name": "ipython",
    "version": 3
   },
   "file_extension": ".py",
   "mimetype": "text/x-python",
   "name": "python",
   "nbconvert_exporter": "python",
   "pygments_lexer": "ipython3",
   "version": "3.12.3"
  }
 },
 "nbformat": 4,
 "nbformat_minor": 2
}
