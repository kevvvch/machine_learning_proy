{
 "cells": [
  {
   "cell_type": "code",
   "execution_count": 32,
   "metadata": {},
   "outputs": [],
   "source": [
    "# Defines\n",
    "#=================================================#\n",
    "IS_TRAIN_NOT_TEST = True\n",
    "\n",
    "ENV_LOCAL_MACHINE   = 1\n",
    "ENV_GOOGLE_COLLABS  = 2\n",
    "ENV_KAGGLE          = 3\n",
    "ENVIRONMENT = ENV_LOCAL_MACHINE\n",
    "\n",
    "#=================================================#\n",
    "RANDOM_SEED = 214\n",
    "OVERSAMPLING_RATIO = 0.3\n",
    "UNDERSAMPLING_RATIO = 0.8\n",
    "N_JOBS = -1\n",
    "\n",
    "#=================================================#\n",
    "PATH_INPUT              = \"dataset/creditcard/\"\n",
    "PATH_OUTPUT             = \"outputs/creditcard/\"\n",
    "\n",
    "CSV_DATASET_RAW                     = \"creditcard.csv\"\n",
    "CSV_DATASET_TRAIN                   = \"dataset_train.csv\"\n",
    "CSV_DATASET_TEST                    = \"dataset_test.csv\"\n",
    "CSV_DATASET_TRAIN_TRANSFORMED       = \"dataset_train_t.csv\"\n",
    "CSV_DATASET_TEST_TRANSFORMED        = \"dataset_test_t.csv\"\n",
    "CSV_DATASET_VAL_TRANSFORMED         = \"dataset_val_t.csv\"\n",
    "\n",
    "CSV_DATASET_BALANCED_RUS_TRAIN      = \"dataset_train_t_b_rus.csv\"\n",
    "CSV_DATASET_BALANCED_NM_TRAIN       = \"dataset_train_t_b_nm.csv\"\n",
    "CSV_DATASET_BALANCED_SMOTE_TRAIN    = \"dataset_train_t_b_smote.csv\"\n",
    "CSV_DATASET_BALANCED_ADASYN_TRAIN   = \"dataset_train_t_b_adasyn.csv\"\n",
    "CSV_DATASET_BALANCED_TOMEK_TRAIN    = \"dataset_train_t_b_tomek.csv\"\n",
    "CSV_DATASET_BALANCED_ENN_TRAIN      = \"dataset_train_t_b_enn.csv\"\n",
    "\n",
    "CSV_DATASET_BALANCED_NM80_TOMEK30_TRAIN      = \"dataset_train_t_b_nm80_tomek30.csv\"\n",
    "CSV_DATASET_BALANCED_NM65_TOMEK30_TRAIN      = \"dataset_train_t_b_nm65_tomek30.csv\"\n",
    "CSV_DATASET_BALANCED_NM80_TOMEK50_TRAIN      = \"dataset_train_t_b_nm80_tomek50.csv\"\n",
    "CSV_DATASET_BALANCED_NM90_TOMEK15_TRAIN      = \"dataset_train_t_b_nm90_tomek15.csv\"\n",
    "\n",
    "if ENVIRONMENT == ENV_LOCAL_MACHINE:\n",
    "    PATH_DATASET_BASE  = \"../\"\n",
    "if ENVIRONMENT == ENV_GOOGLE_COLLABS:\n",
    "    PATH_DATASET_BASE  = \"drive/MyDrive/UTN_Finales/[F] Aprendizaje Automatico/Repositorio/\"\n",
    "\n",
    "FEATURE_TARGET = \"Class\""
   ]
  },
  {
   "cell_type": "code",
   "execution_count": 33,
   "metadata": {},
   "outputs": [
    {
     "name": "stdout",
     "output_type": "stream",
     "text": [
      "Requirement already satisfied: imblearn in d:\\program files\\python\\lib\\site-packages (0.0)\n",
      "Requirement already satisfied: imbalanced-learn in d:\\program files\\python\\lib\\site-packages (from imblearn) (0.12.3)\n",
      "Requirement already satisfied: numpy>=1.17.3 in d:\\program files\\python\\lib\\site-packages (from imbalanced-learn->imblearn) (2.0.0)\n",
      "Requirement already satisfied: scipy>=1.5.0 in d:\\program files\\python\\lib\\site-packages (from imbalanced-learn->imblearn) (1.13.1)\n",
      "Requirement already satisfied: scikit-learn>=1.0.2 in d:\\program files\\python\\lib\\site-packages (from imbalanced-learn->imblearn) (1.5.0)\n",
      "Requirement already satisfied: joblib>=1.1.1 in d:\\program files\\python\\lib\\site-packages (from imbalanced-learn->imblearn) (1.4.2)\n",
      "Requirement already satisfied: threadpoolctl>=2.0.0 in d:\\program files\\python\\lib\\site-packages (from imbalanced-learn->imblearn) (3.5.0)\n",
      "Note: you may need to restart the kernel to use updated packages.\n"
     ]
    },
    {
     "name": "stderr",
     "output_type": "stream",
     "text": [
      "\n",
      "[notice] A new release of pip is available: 24.1.1 -> 24.1.2\n",
      "[notice] To update, run: python.exe -m pip install --upgrade pip\n"
     ]
    }
   ],
   "source": [
    "# Import libraries\n",
    "import pandas as pd\n",
    "import numpy as np\n",
    "\n",
    "%pip install imblearn\n",
    "from imblearn.over_sampling import SMOTE, ADASYN\n",
    "from imblearn.combine import SMOTEENN, SMOTETomek\n",
    "from imblearn.under_sampling import RandomUnderSampler, NearMiss\n",
    "\n",
    "from sklearn.model_selection import train_test_split\n",
    "from collections import Counter"
   ]
  },
  {
   "cell_type": "code",
   "execution_count": 34,
   "metadata": {},
   "outputs": [],
   "source": [
    "# Import dataset\n",
    "if ENVIRONMENT == ENV_GOOGLE_COLLABS:\n",
    "    from google.colab import drive\n",
    "    drive.mount('/content/drive')\n",
    "    \n",
    "dataset = pd.read_csv(PATH_DATASET_BASE+PATH_OUTPUT+CSV_DATASET_TRAIN_TRANSFORMED)\n",
    "dataset_size = dataset.size"
   ]
  },
  {
   "cell_type": "code",
   "execution_count": 35,
   "metadata": {},
   "outputs": [
    {
     "name": "stdout",
     "output_type": "stream",
     "text": [
      "Counter({0: 68236, 1: 118})\n"
     ]
    }
   ],
   "source": [
    "X = dataset.drop(FEATURE_TARGET, axis=1)\n",
    "y = dataset[FEATURE_TARGET]\n",
    "\n",
    "# Split dataset into train and test\n",
    "X_train, X_test, y_train, y_test = train_test_split(X, y, test_size=0.2, shuffle=True, random_state=RANDOM_SEED, stratify=y)\n",
    "print(Counter(y_train))"
   ]
  },
  {
   "cell_type": "code",
   "execution_count": 36,
   "metadata": {},
   "outputs": [],
   "source": [
    "# Save test validation dataset apart to another file\n",
    "dataset_val = pd.concat([X_test, y_test], axis=1)\n",
    "dataset_val.to_csv(PATH_DATASET_BASE+PATH_OUTPUT+CSV_DATASET_VAL_TRANSFORMED, index=False)\n",
    "\n",
    "# Save train dataset apart to another file\n",
    "dataset = pd.concat([X_train, y_train], axis=1)\n",
    "dataset.to_csv(PATH_DATASET_BASE+PATH_OUTPUT+CSV_DATASET_TRAIN_TRANSFORMED, index=False)\n"
   ]
  },
  {
   "cell_type": "markdown",
   "metadata": {},
   "source": [
    "# RANDOM UNDER SAMPLING"
   ]
  },
  {
   "cell_type": "code",
   "execution_count": 37,
   "metadata": {},
   "outputs": [],
   "source": [
    "counter = []\n",
    "for i in Counter(y_train).values():\n",
    "    counter.append(i)\n",
    "counter_0 = counter[0]\n",
    "counter_1 = counter[1]"
   ]
  },
  {
   "cell_type": "code",
   "execution_count": 38,
   "metadata": {},
   "outputs": [
    {
     "name": "stdout",
     "output_type": "stream",
     "text": [
      "Counter({0: 54588, 1: 118})\n"
     ]
    }
   ],
   "source": [
    "rus = RandomUnderSampler(\n",
    "    sampling_strategy={0: int(counter_0*UNDERSAMPLING_RATIO), 1: counter_1},\n",
    "    random_state=RANDOM_SEED,\n",
    "    replacement=False\n",
    ")\n",
    "X_train_us_rus, y_train_us_rus = rus.fit_resample(X_train, y_train)\n",
    "print(Counter(y_train_us_rus))"
   ]
  },
  {
   "cell_type": "code",
   "execution_count": 39,
   "metadata": {},
   "outputs": [],
   "source": [
    "pd.concat([X_train_us_rus, y_train_us_rus], axis=1).to_csv(PATH_DATASET_BASE+PATH_OUTPUT+CSV_DATASET_BALANCED_RUS_TRAIN, index=False)"
   ]
  },
  {
   "cell_type": "markdown",
   "metadata": {},
   "source": [
    "# NEAR MISS"
   ]
  },
  {
   "cell_type": "code",
   "execution_count": 40,
   "metadata": {},
   "outputs": [
    {
     "name": "stdout",
     "output_type": "stream",
     "text": [
      "NaN counts for 'Time':  0\n",
      "NaN counts for 'V1':  0\n",
      "NaN counts for 'V2':  0\n",
      "NaN counts for 'V3':  0\n",
      "NaN counts for 'V4':  0\n",
      "NaN counts for 'V5':  0\n",
      "NaN counts for 'V6':  0\n",
      "NaN counts for 'V7':  0\n",
      "NaN counts for 'V8':  0\n",
      "NaN counts for 'V9':  0\n",
      "NaN counts for 'V10':  0\n",
      "NaN counts for 'V11':  0\n",
      "NaN counts for 'V12':  0\n",
      "NaN counts for 'V14':  0\n",
      "NaN counts for 'V16':  0\n",
      "NaN counts for 'V17':  0\n",
      "NaN counts for 'V18':  0\n",
      "NaN counts for 'V19':  0\n",
      "NaN counts for 'V20':  0\n",
      "NaN counts for 'V21':  0\n",
      "NaN counts for 'V22':  0\n",
      "NaN counts for 'V27':  0\n",
      "NaN counts for 'V28':  0\n",
      "NaN counts for 'Class':  0\n"
     ]
    }
   ],
   "source": [
    "for parameter in dataset.columns:\n",
    "    print(f\"NaN counts for '{parameter}': \", dataset[parameter].isna().sum()+np.isinf(dataset[parameter]).sum())"
   ]
  },
  {
   "cell_type": "code",
   "execution_count": 41,
   "metadata": {},
   "outputs": [
    {
     "name": "stdout",
     "output_type": "stream",
     "text": [
      "Counter({0: 54588, 1: 118})\n"
     ]
    }
   ],
   "source": [
    "nm = NearMiss(\n",
    "    sampling_strategy={0: int(counter_0*UNDERSAMPLING_RATIO), 1: counter_1},\n",
    "    version=1)\n",
    "X_train_us_nm, y_train_us_nm = nm.fit_resample(X_train, y_train)\n",
    "print(Counter(y_train_us_nm))\n"
   ]
  },
  {
   "cell_type": "code",
   "execution_count": 42,
   "metadata": {},
   "outputs": [],
   "source": [
    "pd.concat([X_train_us_rus, y_train_us_rus], axis=1).to_csv(PATH_DATASET_BASE+PATH_OUTPUT+CSV_DATASET_BALANCED_NM_TRAIN, index=False)"
   ]
  },
  {
   "cell_type": "markdown",
   "metadata": {},
   "source": [
    "# SMOTE"
   ]
  },
  {
   "cell_type": "code",
   "execution_count": 43,
   "metadata": {},
   "outputs": [
    {
     "name": "stderr",
     "output_type": "stream",
     "text": [
      "d:\\Program Files\\Python\\Lib\\site-packages\\imblearn\\over_sampling\\_smote\\base.py:370: FutureWarning: The parameter `n_jobs` has been deprecated in 0.10 and will be removed in 0.12. You can pass an nearest neighbors estimator where `n_jobs` is already set instead.\n",
      "  warnings.warn(\n"
     ]
    },
    {
     "name": "stdout",
     "output_type": "stream",
     "text": [
      "Counter({0: 68236, 1: 20470})\n"
     ]
    }
   ],
   "source": [
    "smote = SMOTE(\n",
    "    sampling_strategy=OVERSAMPLING_RATIO,\n",
    "    random_state=RANDOM_SEED,\n",
    "    k_neighbors=5,\n",
    "    n_jobs=N_JOBS\n",
    ")\n",
    "X_train_os_smote, y_train_os_smote = smote.fit_resample(X_train, y_train)\n",
    "print(Counter(y_train_os_smote))\n"
   ]
  },
  {
   "cell_type": "code",
   "execution_count": 44,
   "metadata": {},
   "outputs": [],
   "source": [
    "pd.concat([X_train_os_smote, y_train_os_smote], axis=1).to_csv(PATH_DATASET_BASE+PATH_OUTPUT+CSV_DATASET_BALANCED_SMOTE_TRAIN, index=False)"
   ]
  },
  {
   "cell_type": "markdown",
   "metadata": {},
   "source": [
    "# ADASYN"
   ]
  },
  {
   "cell_type": "code",
   "execution_count": 45,
   "metadata": {},
   "outputs": [
    {
     "name": "stderr",
     "output_type": "stream",
     "text": [
      "d:\\Program Files\\Python\\Lib\\site-packages\\imblearn\\over_sampling\\_adasyn.py:156: FutureWarning: The parameter `n_jobs` has been deprecated in 0.10 and will be removed in 0.12. You can pass an nearest neighbors estimator where `n_jobs` is already set instead.\n",
      "  warnings.warn(\n"
     ]
    },
    {
     "name": "stdout",
     "output_type": "stream",
     "text": [
      "Counter({0: 68236, 1: 20489})\n"
     ]
    }
   ],
   "source": [
    "adasyn = ADASYN(\n",
    "    sampling_strategy=OVERSAMPLING_RATIO,\n",
    "    random_state=RANDOM_SEED,\n",
    "    n_neighbors=5,\n",
    "    n_jobs=N_JOBS\n",
    ")\n",
    "X_train_os_ada, y_train_os_ada = adasyn.fit_resample(X_train, y_train)\n",
    "print(Counter(y_train_os_ada))"
   ]
  },
  {
   "cell_type": "code",
   "execution_count": 46,
   "metadata": {},
   "outputs": [],
   "source": [
    "pd.concat([X_train_os_ada, y_train_os_ada], axis=1).to_csv(PATH_DATASET_BASE+PATH_OUTPUT+CSV_DATASET_BALANCED_ADASYN_TRAIN, index=False)"
   ]
  },
  {
   "cell_type": "markdown",
   "metadata": {},
   "source": [
    "# SMOTE + Tomek Links"
   ]
  },
  {
   "cell_type": "code",
   "execution_count": 47,
   "metadata": {},
   "outputs": [
    {
     "name": "stderr",
     "output_type": "stream",
     "text": [
      "d:\\Program Files\\Python\\Lib\\site-packages\\imblearn\\over_sampling\\_smote\\base.py:370: FutureWarning: The parameter `n_jobs` has been deprecated in 0.10 and will be removed in 0.12. You can pass an nearest neighbors estimator where `n_jobs` is already set instead.\n",
      "  warnings.warn(\n"
     ]
    },
    {
     "name": "stdout",
     "output_type": "stream",
     "text": [
      "Counter({0: 68214, 1: 20448})\n"
     ]
    }
   ],
   "source": [
    "smote_tomek = SMOTETomek(\n",
    "    sampling_strategy=OVERSAMPLING_RATIO,\n",
    "    random_state=RANDOM_SEED,\n",
    "    smote=None,\n",
    "    tomek=None,\n",
    "    n_jobs=N_JOBS\n",
    ")\n",
    "X_train_os_tom, y_train_os_tom = smote_tomek.fit_resample(X_train, y_train)\n",
    "print(Counter(y_train_os_tom))"
   ]
  },
  {
   "cell_type": "code",
   "execution_count": 48,
   "metadata": {},
   "outputs": [],
   "source": [
    "pd.concat([X_train_os_tom, y_train_os_tom], axis=1).to_csv(PATH_DATASET_BASE+PATH_OUTPUT+CSV_DATASET_BALANCED_TOMEK_TRAIN, index=False)"
   ]
  },
  {
   "cell_type": "markdown",
   "metadata": {},
   "source": [
    "# SMOTE + ENN"
   ]
  },
  {
   "cell_type": "code",
   "execution_count": 49,
   "metadata": {},
   "outputs": [
    {
     "name": "stderr",
     "output_type": "stream",
     "text": [
      "d:\\Program Files\\Python\\Lib\\site-packages\\imblearn\\over_sampling\\_smote\\base.py:370: FutureWarning: The parameter `n_jobs` has been deprecated in 0.10 and will be removed in 0.12. You can pass an nearest neighbors estimator where `n_jobs` is already set instead.\n",
      "  warnings.warn(\n"
     ]
    },
    {
     "name": "stdout",
     "output_type": "stream",
     "text": [
      "Counter({0: 67738, 1: 20362})\n"
     ]
    }
   ],
   "source": [
    "smote_enn = SMOTEENN(\n",
    "    sampling_strategy=OVERSAMPLING_RATIO,\n",
    "    random_state=RANDOM_SEED,\n",
    "    smote=None,\n",
    "    enn=None,\n",
    "    n_jobs=N_JOBS\n",
    ")\n",
    "X_train_os_enn, y_train_os_enn = smote_enn.fit_resample(X_train, y_train)\n",
    "print(Counter(y_train_os_enn))"
   ]
  },
  {
   "cell_type": "code",
   "execution_count": 50,
   "metadata": {},
   "outputs": [],
   "source": [
    "pd.concat([X_train_os_enn, y_train_os_enn], axis=1).to_csv(PATH_DATASET_BASE+PATH_OUTPUT+CSV_DATASET_BALANCED_ENN_TRAIN, index=False)"
   ]
  },
  {
   "cell_type": "markdown",
   "metadata": {},
   "source": [
    "# SMOTE Tomek Links + Near Miss"
   ]
  },
  {
   "cell_type": "markdown",
   "metadata": {},
   "source": [
    "## 0.80 / 0.30"
   ]
  },
  {
   "cell_type": "code",
   "execution_count": 51,
   "metadata": {},
   "outputs": [
    {
     "name": "stdout",
     "output_type": "stream",
     "text": [
      "Counter({0: 54588, 1: 118})\n"
     ]
    },
    {
     "name": "stderr",
     "output_type": "stream",
     "text": [
      "d:\\Program Files\\Python\\Lib\\site-packages\\imblearn\\over_sampling\\_smote\\base.py:370: FutureWarning: The parameter `n_jobs` has been deprecated in 0.10 and will be removed in 0.12. You can pass an nearest neighbors estimator where `n_jobs` is already set instead.\n",
      "  warnings.warn(\n"
     ]
    },
    {
     "name": "stdout",
     "output_type": "stream",
     "text": [
      "Counter({0: 54588, 1: 16376})\n"
     ]
    }
   ],
   "source": [
    "UNDERSAMPLING_RATIO_T = 0.8\n",
    "OVERSAMPLING_RATIO_T = 0.3\n",
    "\n",
    "nm = NearMiss(\n",
    "    sampling_strategy={0: int(counter_0*UNDERSAMPLING_RATIO_T), 1: counter_1},\n",
    "    version=1)\n",
    "X_train_us_nm, y_train_us_nm = nm.fit_resample(X_train, y_train)\n",
    "print(Counter(y_train_us_nm))\n",
    "\n",
    "smote_tomek = SMOTETomek(\n",
    "    sampling_strategy=OVERSAMPLING_RATIO,\n",
    "    random_state=RANDOM_SEED,\n",
    "    smote=None,\n",
    "    tomek=None,\n",
    "    n_jobs=N_JOBS\n",
    ")\n",
    "X_train_us80_os30, y_train_us80_os30 = smote_tomek.fit_resample(X_train_us_nm, y_train_us_nm)\n",
    "print(Counter(y_train_us80_os30))\n",
    "\n",
    "pd.concat([X_train_us80_os30, y_train_us80_os30], axis=1).to_csv(PATH_DATASET_BASE+PATH_OUTPUT+CSV_DATASET_BALANCED_NM80_TOMEK30_TRAIN, index=False)\n"
   ]
  },
  {
   "cell_type": "markdown",
   "metadata": {},
   "source": [
    "## 0.65 / 0.30"
   ]
  },
  {
   "cell_type": "code",
   "execution_count": 52,
   "metadata": {},
   "outputs": [
    {
     "name": "stdout",
     "output_type": "stream",
     "text": [
      "Counter({0: 44353, 1: 118})\n"
     ]
    },
    {
     "name": "stderr",
     "output_type": "stream",
     "text": [
      "d:\\Program Files\\Python\\Lib\\site-packages\\imblearn\\over_sampling\\_smote\\base.py:370: FutureWarning: The parameter `n_jobs` has been deprecated in 0.10 and will be removed in 0.12. You can pass an nearest neighbors estimator where `n_jobs` is already set instead.\n",
      "  warnings.warn(\n"
     ]
    },
    {
     "name": "stdout",
     "output_type": "stream",
     "text": [
      "Counter({0: 44353, 1: 13305})\n"
     ]
    }
   ],
   "source": [
    "UNDERSAMPLING_RATIO_T = 0.65\n",
    "OVERSAMPLING_RATIO_T = 0.30\n",
    "\n",
    "nm = NearMiss(\n",
    "    sampling_strategy={0: int(counter_0*UNDERSAMPLING_RATIO_T), 1: counter_1},\n",
    "    version=1)\n",
    "X_train_us_nm, y_train_us_nm = nm.fit_resample(X_train, y_train)\n",
    "print(Counter(y_train_us_nm))\n",
    "\n",
    "smote_tomek = SMOTETomek(\n",
    "    sampling_strategy=OVERSAMPLING_RATIO,\n",
    "    random_state=RANDOM_SEED,\n",
    "    smote=None,\n",
    "    tomek=None,\n",
    "    n_jobs=N_JOBS\n",
    ")\n",
    "X_train_us65_os30, y_train_us65_os30 = smote_tomek.fit_resample(X_train_us_nm, y_train_us_nm)\n",
    "print(Counter(y_train_us65_os30))\n",
    "\n",
    "pd.concat([X_train_us65_os30, y_train_us65_os30], axis=1).to_csv(PATH_DATASET_BASE+PATH_OUTPUT+CSV_DATASET_BALANCED_NM65_TOMEK30_TRAIN, index=False)"
   ]
  },
  {
   "cell_type": "markdown",
   "metadata": {},
   "source": [
    "## 0.80 / 0.50"
   ]
  },
  {
   "cell_type": "code",
   "execution_count": 53,
   "metadata": {},
   "outputs": [
    {
     "name": "stdout",
     "output_type": "stream",
     "text": [
      "Counter({0: 54588, 1: 118})\n"
     ]
    },
    {
     "name": "stderr",
     "output_type": "stream",
     "text": [
      "d:\\Program Files\\Python\\Lib\\site-packages\\imblearn\\over_sampling\\_smote\\base.py:370: FutureWarning: The parameter `n_jobs` has been deprecated in 0.10 and will be removed in 0.12. You can pass an nearest neighbors estimator where `n_jobs` is already set instead.\n",
      "  warnings.warn(\n"
     ]
    },
    {
     "name": "stdout",
     "output_type": "stream",
     "text": [
      "Counter({0: 54588, 1: 16376})\n"
     ]
    }
   ],
   "source": [
    "UNDERSAMPLING_RATIO_T = 0.8\n",
    "OVERSAMPLING_RATIO_T = 0.5\n",
    "\n",
    "nm = NearMiss(\n",
    "    sampling_strategy={0: int(counter_0*UNDERSAMPLING_RATIO_T), 1: counter_1},\n",
    "    version=1)\n",
    "X_train_us_nm, y_train_us_nm = nm.fit_resample(X_train, y_train)\n",
    "print(Counter(y_train_us_nm))\n",
    "\n",
    "smote_tomek = SMOTETomek(\n",
    "    sampling_strategy=OVERSAMPLING_RATIO,\n",
    "    random_state=RANDOM_SEED,\n",
    "    smote=None,\n",
    "    tomek=None,\n",
    "    n_jobs=N_JOBS\n",
    ")\n",
    "X_train_us80_os50, y_train_us80_os50 = smote_tomek.fit_resample(X_train_us_nm, y_train_us_nm)\n",
    "print(Counter(y_train_us80_os50))\n",
    "\n",
    "pd.concat([X_train_us80_os50, y_train_us80_os50], axis=1).to_csv(PATH_DATASET_BASE+PATH_OUTPUT+CSV_DATASET_BALANCED_NM80_TOMEK50_TRAIN, index=False)"
   ]
  },
  {
   "cell_type": "markdown",
   "metadata": {},
   "source": [
    "## 0.90 / 0.15"
   ]
  },
  {
   "cell_type": "code",
   "execution_count": 54,
   "metadata": {},
   "outputs": [
    {
     "name": "stdout",
     "output_type": "stream",
     "text": [
      "Counter({0: 61412, 1: 118})\n"
     ]
    },
    {
     "name": "stderr",
     "output_type": "stream",
     "text": [
      "d:\\Program Files\\Python\\Lib\\site-packages\\imblearn\\over_sampling\\_smote\\base.py:370: FutureWarning: The parameter `n_jobs` has been deprecated in 0.10 and will be removed in 0.12. You can pass an nearest neighbors estimator where `n_jobs` is already set instead.\n",
      "  warnings.warn(\n"
     ]
    },
    {
     "name": "stdout",
     "output_type": "stream",
     "text": [
      "Counter({0: 61412, 1: 18423})\n"
     ]
    }
   ],
   "source": [
    "UNDERSAMPLING_RATIO_T = 0.9\n",
    "OVERSAMPLING_RATIO_T = 0.15\n",
    "\n",
    "nm = NearMiss(\n",
    "    sampling_strategy={0: int(counter_0*UNDERSAMPLING_RATIO_T), 1: counter_1},\n",
    "    version=1)\n",
    "X_train_us_nm, y_train_us_nm = nm.fit_resample(X_train, y_train)\n",
    "print(Counter(y_train_us_nm))\n",
    "\n",
    "smote_tomek = SMOTETomek(\n",
    "    sampling_strategy=OVERSAMPLING_RATIO,\n",
    "    random_state=RANDOM_SEED,\n",
    "    smote=None,\n",
    "    tomek=None,\n",
    "    n_jobs=N_JOBS\n",
    ")\n",
    "X_train_us90_os15, y_train_us90_os15 = smote_tomek.fit_resample(X_train_us_nm, y_train_us_nm)\n",
    "print(Counter(y_train_us90_os15))\n",
    "\n",
    "pd.concat([X_train_us90_os15, y_train_us90_os15], axis=1).to_csv(PATH_DATASET_BASE+PATH_OUTPUT+CSV_DATASET_BALANCED_NM90_TOMEK15_TRAIN, index=False)"
   ]
  },
  {
   "cell_type": "markdown",
   "metadata": {},
   "source": [
    "# SMOTE ENN + Near Miss"
   ]
  },
  {
   "cell_type": "code",
   "execution_count": 55,
   "metadata": {},
   "outputs": [],
   "source": [
    "CSV_DATASET_BALANCED_NM90_ENN15_TRAIN = \"dataset_balanced_train_nm90_enn15.csv\"\n",
    "CSV_DATASET_BALANCED_NM90_ENN30_TRAIN = \"dataset_balanced_train_nm90_enn30.csv\""
   ]
  },
  {
   "cell_type": "markdown",
   "metadata": {},
   "source": [
    "## 0.90 / 0.15"
   ]
  },
  {
   "cell_type": "code",
   "execution_count": 56,
   "metadata": {},
   "outputs": [
    {
     "name": "stdout",
     "output_type": "stream",
     "text": [
      "Counter({0: 61412, 1: 118})\n"
     ]
    },
    {
     "name": "stderr",
     "output_type": "stream",
     "text": [
      "d:\\Program Files\\Python\\Lib\\site-packages\\imblearn\\over_sampling\\_smote\\base.py:370: FutureWarning: The parameter `n_jobs` has been deprecated in 0.10 and will be removed in 0.12. You can pass an nearest neighbors estimator where `n_jobs` is already set instead.\n",
      "  warnings.warn(\n"
     ]
    },
    {
     "name": "stdout",
     "output_type": "stream",
     "text": [
      "Counter({0: 61412, 1: 18423})\n"
     ]
    }
   ],
   "source": [
    "UNDERSAMPLING_RATIO_T = 0.9\n",
    "OVERSAMPLING_RATIO_T = 0.15\n",
    "\n",
    "nm = NearMiss(\n",
    "    sampling_strategy={0: int(counter_0*UNDERSAMPLING_RATIO_T), 1: counter_1},\n",
    "    version=1)\n",
    "X_train_us_nm, y_train_us_nm = nm.fit_resample(X_train, y_train)\n",
    "print(Counter(y_train_us_nm))\n",
    "\n",
    "smote_enn = SMOTEENN(\n",
    "    sampling_strategy=OVERSAMPLING_RATIO,\n",
    "    random_state=RANDOM_SEED,\n",
    "    smote=None,\n",
    "    enn=None,\n",
    "    n_jobs=N_JOBS\n",
    ")\n",
    "X_train_us90_os15_enn, y_train_us90_os15_enn = smote_tomek.fit_resample(X_train_us_nm, y_train_us_nm)\n",
    "print(Counter(y_train_us90_os15_enn))\n",
    "\n",
    "pd.concat([X_train_us90_os15_enn, y_train_us90_os15_enn], axis=1).to_csv(PATH_DATASET_BASE+PATH_OUTPUT+CSV_DATASET_BALANCED_NM90_ENN15_TRAIN, index=False)"
   ]
  },
  {
   "cell_type": "markdown",
   "metadata": {},
   "source": [
    "## 0.90 / 0.30"
   ]
  },
  {
   "cell_type": "code",
   "execution_count": 57,
   "metadata": {},
   "outputs": [
    {
     "name": "stdout",
     "output_type": "stream",
     "text": [
      "Counter({0: 61412, 1: 118})\n"
     ]
    },
    {
     "name": "stderr",
     "output_type": "stream",
     "text": [
      "d:\\Program Files\\Python\\Lib\\site-packages\\imblearn\\over_sampling\\_smote\\base.py:370: FutureWarning: The parameter `n_jobs` has been deprecated in 0.10 and will be removed in 0.12. You can pass an nearest neighbors estimator where `n_jobs` is already set instead.\n",
      "  warnings.warn(\n"
     ]
    },
    {
     "name": "stdout",
     "output_type": "stream",
     "text": [
      "Counter({0: 61412, 1: 18423})\n"
     ]
    }
   ],
   "source": [
    "UNDERSAMPLING_RATIO_T = 0.9\n",
    "OVERSAMPLING_RATIO_T = 0.30\n",
    "\n",
    "nm = NearMiss(\n",
    "    sampling_strategy={0: int(counter_0*UNDERSAMPLING_RATIO_T), 1: counter_1},\n",
    "    version=1)\n",
    "X_train_us_nm, y_train_us_nm = nm.fit_resample(X_train, y_train)\n",
    "print(Counter(y_train_us_nm))\n",
    "\n",
    "smote_enn = SMOTEENN(\n",
    "    sampling_strategy=OVERSAMPLING_RATIO,\n",
    "    random_state=RANDOM_SEED,\n",
    "    smote=None,\n",
    "    enn=None,\n",
    "    n_jobs=N_JOBS\n",
    ")\n",
    "X_train_us90_os30_enn, y_train_us90_os30_enn = smote_tomek.fit_resample(X_train_us_nm, y_train_us_nm)\n",
    "print(Counter(y_train_us90_os30_enn))\n",
    "\n",
    "pd.concat([X_train_us90_os30_enn, y_train_us90_os30_enn], axis=1).to_csv(PATH_DATASET_BASE+PATH_OUTPUT+CSV_DATASET_BALANCED_NM90_ENN30_TRAIN, index=False)"
   ]
  }
 ],
 "metadata": {
  "kernelspec": {
   "display_name": "Python 3",
   "language": "python",
   "name": "python3"
  },
  "language_info": {
   "codemirror_mode": {
    "name": "ipython",
    "version": 3
   },
   "file_extension": ".py",
   "mimetype": "text/x-python",
   "name": "python",
   "nbconvert_exporter": "python",
   "pygments_lexer": "ipython3",
   "version": "3.12.3"
  }
 },
 "nbformat": 4,
 "nbformat_minor": 2
}
