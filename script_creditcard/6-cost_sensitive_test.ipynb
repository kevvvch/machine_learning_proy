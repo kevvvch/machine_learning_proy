{
 "cells": [
  {
   "cell_type": "code",
   "execution_count": 1,
   "metadata": {},
   "outputs": [],
   "source": [
    "# Defines\n",
    "#=================================================#\n",
    "IS_TRAIN_NOT_TEST = True\n",
    "\n",
    "ENV_LOCAL_MACHINE   = 1\n",
    "ENV_GOOGLE_COLLABS  = 2\n",
    "ENV_KAGGLE          = 3\n",
    "ENVIRONMENT = ENV_LOCAL_MACHINE\n",
    "\n",
    "#=================================================#\n",
    "RANDOM_SEED = 214\n",
    "OVERSAMPLING_RATIO = 0.3\n",
    "UNDERSAMPLING_RATIO = 0.8\n",
    "N_JOBS = -1\n",
    "\n",
    "#=================================================#\n",
    "PATH_INPUT              = \"dataset/creditcard/\"\n",
    "PATH_OUTPUT             = \"outputs/creditcard/\"\n",
    "\n",
    "CSV_DATASET_RAW                     = \"creditcard.csv\"\n",
    "CSV_DATASET_TRAIN                   = \"dataset_train.csv\"\n",
    "CSV_DATASET_TEST                    = \"dataset_test.csv\"\n",
    "CSV_DATASET_TRAIN_TRANSFORMED       = \"dataset_train_t.csv\"\n",
    "CSV_DATASET_TEST_TRANSFORMED        = \"dataset_test_t.csv\"\n",
    "CSV_DATASET_VAL_TRANSFORMED         = \"dataset_val_t.csv\"\n",
    "\n",
    "CSV_DATASET_BALANCED_RUS_TRAIN      = \"dataset_train_t_b_rus.csv\"\n",
    "CSV_DATASET_BALANCED_NM_TRAIN       = \"dataset_train_t_b_nm.csv\"\n",
    "CSV_DATASET_BALANCED_SMOTE_TRAIN    = \"dataset_train_t_b_smote.csv\"\n",
    "CSV_DATASET_BALANCED_ADASYN_TRAIN   = \"dataset_train_t_b_adasyn.csv\"\n",
    "CSV_DATASET_BALANCED_TOMEK_TRAIN    = \"dataset_train_t_b_tomek.csv\"\n",
    "CSV_DATASET_BALANCED_ENN_TRAIN      = \"dataset_train_t_b_enn.csv\"\n",
    "\n",
    "CSV_DATASET_BALANCED_NM80_TOMEK30_TRAIN      = \"dataset_train_t_b_nm80_tomek30.csv\"\n",
    "CSV_DATASET_BALANCED_NM65_TOMEK30_TRAIN      = \"dataset_train_t_b_nm65_tomek30.csv\"\n",
    "CSV_DATASET_BALANCED_NM80_TOMEK50_TRAIN      = \"dataset_train_t_b_nm80_tomek50.csv\"\n",
    "CSV_DATASET_BALANCED_NM90_TOMEK15_TRAIN      = \"dataset_train_t_b_nm90_tomek15.csv\"\n",
    "\n",
    "if ENVIRONMENT == ENV_LOCAL_MACHINE:\n",
    "    PATH_DATASET_BASE  = \"../\"\n",
    "if ENVIRONMENT == ENV_GOOGLE_COLLABS:\n",
    "    PATH_DATASET_BASE  = \"drive/MyDrive/UTN_Finales/[F] Aprendizaje Automatico/Repositorio/\"\n",
    "\n",
    "FEATURE_TARGET = \"Class\""
   ]
  },
  {
   "cell_type": "code",
   "execution_count": 2,
   "metadata": {},
   "outputs": [
    {
     "name": "stderr",
     "output_type": "stream",
     "text": [
      "\n",
      "[notice] A new release of pip is available: 24.1.1 -> 24.1.2\n",
      "[notice] To update, run: python.exe -m pip install --upgrade pip\n"
     ]
    },
    {
     "name": "stdout",
     "output_type": "stream",
     "text": [
      "Requirement already satisfied: imblearn in d:\\program files\\python\\lib\\site-packages (0.0)\n",
      "Requirement already satisfied: imbalanced-learn in d:\\program files\\python\\lib\\site-packages (from imblearn) (0.12.3)\n",
      "Requirement already satisfied: numpy>=1.17.3 in d:\\program files\\python\\lib\\site-packages (from imbalanced-learn->imblearn) (2.0.0)\n",
      "Requirement already satisfied: scipy>=1.5.0 in d:\\program files\\python\\lib\\site-packages (from imbalanced-learn->imblearn) (1.13.1)\n",
      "Requirement already satisfied: scikit-learn>=1.0.2 in d:\\program files\\python\\lib\\site-packages (from imbalanced-learn->imblearn) (1.5.0)\n",
      "Requirement already satisfied: joblib>=1.1.1 in d:\\program files\\python\\lib\\site-packages (from imbalanced-learn->imblearn) (1.4.2)\n",
      "Requirement already satisfied: threadpoolctl>=2.0.0 in d:\\program files\\python\\lib\\site-packages (from imbalanced-learn->imblearn) (3.5.0)\n",
      "Note: you may need to restart the kernel to use updated packages.\n"
     ]
    }
   ],
   "source": [
    "import pandas as pd\n",
    "import numpy as np\n",
    "\n",
    "from collections import Counter\n",
    "\n",
    "%pip install imblearn\n",
    "\n",
    "from sklearn.ensemble import AdaBoostClassifier\n",
    "from sklearn.tree import DecisionTreeClassifier\n",
    "from sklearn.linear_model import LogisticRegression\n",
    "\n",
    "from sklearn.ensemble import BaggingClassifier\n",
    "from sklearn.neighbors import KNeighborsClassifier\n",
    "from sklearn.ensemble import RandomForestClassifier\n",
    "\n",
    "\n",
    "from sklearn.metrics import classification_report, roc_auc_score, roc_curve, log_loss, average_precision_score\n",
    "\n",
    "import matplotlib.pyplot as plt"
   ]
  },
  {
   "cell_type": "code",
   "execution_count": 3,
   "metadata": {},
   "outputs": [
    {
     "name": "stdout",
     "output_type": "stream",
     "text": [
      "dataset_rows = 199364\n"
     ]
    }
   ],
   "source": [
    "# Import Dataset Test CSV\n",
    "dataset_val = pd.read_csv(PATH_DATASET_BASE+PATH_OUTPUT+CSV_DATASET_TEST_TRANSFORMED)\n",
    "print(f\"dataset_rows = {dataset_val.shape[0]}\")\n",
    "\n",
    "X_test = dataset_val.drop(FEATURE_TARGET, axis=1)\n",
    "y_test = dataset_val[FEATURE_TARGET]"
   ]
  },
  {
   "cell_type": "markdown",
   "metadata": {},
   "source": [
    "# Adaboost"
   ]
  },
  {
   "cell_type": "code",
   "execution_count": 6,
   "metadata": {},
   "outputs": [
    {
     "name": "stdout",
     "output_type": "stream",
     "text": [
      "Weight List: 1\n"
     ]
    },
    {
     "name": "stderr",
     "output_type": "stream",
     "text": [
      "d:\\Program Files\\Python\\Lib\\site-packages\\sklearn\\ensemble\\_weight_boosting.py:527: FutureWarning: The SAMME.R algorithm (the default) is deprecated and will be removed in 1.6. Use the SAMME algorithm to circumvent this warning.\n",
      "  warnings.warn(\n"
     ]
    }
   ],
   "source": [
    "N_ESTIMATORS = 50\n",
    "MAX_DEPTH = 5\n",
    "CLASS_WEIGHT = 1\n",
    "\n",
    "weight_list = [\n",
    "    1,\n",
    "    5,\n",
    "    10,\n",
    "    50\n",
    "]\n",
    "\n",
    "dataset_val = pd.read_csv(PATH_DATASET_BASE+PATH_OUTPUT+CSV_DATASET_TEST_TRANSFORMED)\n",
    "X_val = dataset_val.drop(FEATURE_TARGET, axis=1)\n",
    "y_val = dataset_val[FEATURE_TARGET]\n",
    "\n",
    "# Determine the number of rows and columns for subplots\n",
    "num_cols = len(weight_list)\n",
    "num_rows = int(np.ceil(num_cols / 2))  # Adjust as needed for your dataset\n",
    "\n",
    "# Create subplots\n",
    "fig, axs = plt.subplots(num_rows, 2, figsize=(12, 2.5 * num_rows))\n",
    "\n",
    "# Flatten the axs array in case num_rows = 1\n",
    "axs = axs.flatten()\n",
    "\n",
    "for i in range(len(weight_list)):\n",
    "    print(f\"Weight List: {weight_list[i]}\")\n",
    "    dataset = pd.read_csv(PATH_DATASET_BASE+PATH_OUTPUT+CSV_DATASET_TRAIN_TRANSFORMED)\n",
    "    X_train = dataset.drop(FEATURE_TARGET, axis=1)\n",
    "    y_train = dataset[FEATURE_TARGET]\n",
    "\n",
    "    class_weights = {0: 1, 1: weight_list[i]}\n",
    "    sample_weight = np.array([class_weights[cls] for cls in y_train])\n",
    "\n",
    "    model = RandomForestClassifier(n_estimators=N_ESTIMATORS, max_depth=MAX_DEPTH, random_state=RANDOM_SEED)\n",
    "    model.fit(X_train, y_train, sample_weight=sample_weight)\n",
    "\n",
    "    y_pred_proba = model.predict_proba(X_val)[:, 1]\n",
    "\n",
    "    logloss = log_loss(y_val, y_pred_proba)\n",
    "    print(f\"Log Loss: {logloss:.3f}\")\n",
    "\n",
    "    avg_precision = average_precision_score(y_val, y_pred_proba)\n",
    "    print(f\"PR: {avg_precision:.3f}\")\n",
    "\n",
    "    roc_auc = roc_auc_score(y_val, y_pred_proba)\n",
    "    fpr, tpr, thresholds = roc_curve(y_val, y_pred_proba)\n",
    "    print(f\"AUC-ROC: {roc_auc:.3f}\")\n",
    "\n",
    "    axs[i].plot(fpr, tpr, color='darkorange', lw=2, label=f'ROC curve (area = {roc_auc:.3f})\\nlogloss = {logloss:.3f}\\nPR = {avg_precision:.3f}')\n",
    "    axs[i].plot([0, 1], [0, 1], color='navy', lw=2, linestyle='--')\n",
    "    axs[i].set_xlim([0.0, 1.0])\n",
    "    axs[i].set_ylim([0.0, 1.05])\n",
    "    axs[i].set_xlabel('False Positive Rate')\n",
    "    axs[i].set_ylabel('True Positive Rate')\n",
    "    axs[i].set_title(f'ROC Curve: {weight_list[i]}')\n",
    "    axs[i].legend(loc=\"lower right\")\n",
    "\n",
    "# Adjust layout and display\n",
    "plt.tight_layout()\n",
    "plt.show()"
   ]
  }
 ],
 "metadata": {
  "kernelspec": {
   "display_name": "Python 3",
   "language": "python",
   "name": "python3"
  },
  "language_info": {
   "codemirror_mode": {
    "name": "ipython",
    "version": 3
   },
   "file_extension": ".py",
   "mimetype": "text/x-python",
   "name": "python",
   "nbconvert_exporter": "python",
   "pygments_lexer": "ipython3",
   "version": "3.12.3"
  }
 },
 "nbformat": 4,
 "nbformat_minor": 2
}
